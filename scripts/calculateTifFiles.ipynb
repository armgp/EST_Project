{
 "cells": [
  {
   "cell_type": "code",
   "execution_count": 9,
   "metadata": {},
   "outputs": [],
   "source": [
    "import rasterio\n",
    "from rasterio.enums import Resampling\n",
    "import numpy as np\n",
    "import pandas as pd\n",
    "import numpy as np\n",
    "from scipy.ndimage import gaussian_filter"
   ]
  },
  {
   "cell_type": "code",
   "execution_count": 6,
   "metadata": {},
   "outputs": [],
   "source": [
    "red_band_path = '/home/gp/Documents/Dev/EST_Project/QGIS_files/S2B_MSIL2A_20231007T072759_N0509_R049_T36LYH_20231007T101850.SAFE/GRANULE/L2A_T36LYH_A034395_20231007T075214/IMG_DATA/R10m/T36LYH_20231007T072759_B04_10m.jp2'\n",
    "blue_band_path = '/home/gp/Documents/Dev/EST_Project/QGIS_files/S2B_MSIL2A_20231007T072759_N0509_R049_T36LYH_20231007T101850.SAFE/GRANULE/L2A_T36LYH_A034395_20231007T075214/IMG_DATA/R10m/T36LYH_20231007T072759_B02_10m.jp2'\n",
    "green_band_path = '/home/gp/Documents/Dev/EST_Project/QGIS_files/S2B_MSIL2A_20231007T072759_N0509_R049_T36LYH_20231007T101850.SAFE/GRANULE/L2A_T36LYH_A034395_20231007T075214/IMG_DATA/R10m/T36LYH_20231007T072759_B03_10m.jp2'\n",
    "nir_band_path = '/home/gp/Documents/Dev/EST_Project/QGIS_files/S2B_MSIL2A_20231007T072759_N0509_R049_T36LYH_20231007T101850.SAFE/GRANULE/L2A_T36LYH_A034395_20231007T075214/IMG_DATA/R10m/T36LYH_20231007T072759_B08_10m.jp2'\n",
    "\n",
    "output_ndvi_path = '/home/gp/Documents/Dev/EST_Project/QGIS_files/S2B_MSIL2A_20231007T072759_N0509_R049_T36LYH_20231007T101850.SAFE/GRANULE/L2A_T36LYH_A034395_20231007T075214/IMG_DATA/R10m/ndvi.tif'\n",
    "output_pan_path = '/home/gp/Documents/Dev/EST_Project/QGIS_files/S2B_MSIL2A_20231007T072759_N0509_R049_T36LYH_20231007T101850.SAFE/GRANULE/L2A_T36LYH_A034395_20231007T075214/IMG_DATA/R10m/pan.tif'\n",
    "output_savi_path = '/home/gp/Documents/Dev/EST_Project/QGIS_files/S2B_MSIL2A_20231007T072759_N0509_R049_T36LYH_20231007T101850.SAFE/GRANULE/L2A_T36LYH_A034395_20231007T075214/IMG_DATA/R10m/'"
   ]
  },
  {
   "cell_type": "code",
   "execution_count": 7,
   "metadata": {},
   "outputs": [],
   "source": [
    "output_red_blurred_path = '/home/gp/Documents/Dev/EST_Project/QGIS_files/S2B_MSIL2A_20231007T072759_N0509_R049_T36LYH_20231007T101850.SAFE/GRANULE/L2A_T36LYH_A034395_20231007T075214/IMG_DATA/R10m/red_blurred.tif'\n",
    "output_green_blurred_path = '/home/gp/Documents/Dev/EST_Project/QGIS_files/S2B_MSIL2A_20231007T072759_N0509_R049_T36LYH_20231007T101850.SAFE/GRANULE/L2A_T36LYH_A034395_20231007T075214/IMG_DATA/R10m/green_blurred.tif'\n",
    "output_blue_blurred_path = '/home/gp/Documents/Dev/EST_Project/QGIS_files/S2B_MSIL2A_20231007T072759_N0509_R049_T36LYH_20231007T101850.SAFE/GRANULE/L2A_T36LYH_A034395_20231007T075214/IMG_DATA/R10m/blue_blurred.tif'\n",
    "output_nir_blurred_path = '/home/gp/Documents/Dev/EST_Project/QGIS_files/S2B_MSIL2A_20231007T072759_N0509_R049_T36LYH_20231007T101850.SAFE/GRANULE/L2A_T36LYH_A034395_20231007T075214/IMG_DATA/R10m/nir_blurred.tif'\n",
    "output_ndvi_blurred_path = '/home/gp/Documents/Dev/EST_Project/QGIS_files/S2B_MSIL2A_20231007T072759_N0509_R049_T36LYH_20231007T101850.SAFE/GRANULE/L2A_T36LYH_A034395_20231007T075214/IMG_DATA/R10m/ndvi_blurred.tif'\n",
    "output_panchromatic_blurred_path = '/home/gp/Documents/Dev/EST_Project/QGIS_files/S2B_MSIL2A_20231007T072759_N0509_R049_T36LYH_20231007T101850.SAFE/GRANULE/L2A_T36LYH_A034395_20231007T075214/IMG_DATA/R10m/panchromatic_blurred.tif'"
   ]
  },
  {
   "cell_type": "code",
   "execution_count": 14,
   "metadata": {},
   "outputs": [],
   "source": [
    "def calculate_ndvi(red_band, nir_band):\n",
    "    ndvi = (nir_band - red_band) / (nir_band + red_band)\n",
    "    return ndvi"
   ]
  },
  {
   "cell_type": "code",
   "execution_count": null,
   "metadata": {},
   "outputs": [],
   "source": [
    "with rasterio.open(red_band_path) as red_band_ds, rasterio.open(nir_band_path) as nir_band_ds:\n",
    "    red_band = red_band_ds.read(1).astype(np.float32)\n",
    "    nir_band = nir_band_ds.read(1).astype(np.float32)\n",
    "\n",
    "    ndvi = calculate_ndvi(red_band, nir_band)\n",
    "    scaled_ndvi = ((ndvi + 1) * 127.5).astype(np.uint8)\n",
    "    metadata = red_band_ds.meta\n",
    "\n",
    "    metadata.update(dtype=rasterio.uint8, count=1)\n",
    "    with rasterio.open(output_ndvi_path, 'w', **metadata) as dst:\n",
    "        dst.write(scaled_ndvi, 1)\n",
    "\n",
    "print(f'NDVI calculated and saved to {output_ndvi_path}')"
   ]
  },
  {
   "cell_type": "code",
   "execution_count": 18,
   "metadata": {},
   "outputs": [
    {
     "name": "stdout",
     "output_type": "stream",
     "text": [
      "Panchromatic image calculated and saved to /home/gp/Documents/Dev/EST_Project/QGIS_files/S2B_MSIL2A_20231007T072759_N0509_R049_T36LYH_20231007T101850.SAFE/GRANULE/L2A_T36LYH_A034395_20231007T075214/IMG_DATA/R10m/pan.tif\n"
     ]
    }
   ],
   "source": [
    "with rasterio.open(red_band_path) as red_band_ds, \\\n",
    "     rasterio.open(blue_band_path) as blue_band_ds, \\\n",
    "     rasterio.open(green_band_path) as green_band_ds, \\\n",
    "     rasterio.open(nir_band_path) as nir_band_ds:\n",
    " \n",
    "    red_band = red_band_ds.read(1).astype(np.float32)\n",
    "    blue_band = blue_band_ds.read(1).astype(np.float32)\n",
    "    green_band = green_band_ds.read(1).astype(np.float32)\n",
    "    nir_band = nir_band_ds.read(1).astype(np.float32)\n",
    "\n",
    "    pan_band = (red_band + blue_band + green_band + nir_band) / 4\n",
    "    scaled_pan_band = (pan_band * 255).astype(np.uint8)\n",
    "    metadata = red_band_ds.meta\n",
    "\n",
    "    metadata.update(dtype=rasterio.uint8, count=1)\n",
    "\n",
    "    with rasterio.open(output_pan_path, 'w', **metadata) as dst:\n",
    "        dst.write(scaled_pan_band, 1)\n",
    "\n",
    "print(f'Panchromatic image calculated and saved to {output_pan_path}')"
   ]
  },
  {
   "cell_type": "code",
   "execution_count": 5,
   "metadata": {},
   "outputs": [
    {
     "name": "stdout",
     "output_type": "stream",
     "text": [
      "Scaled SAVI image for L=0.1 calculated and saved to /home/gp/Documents/Dev/EST_Project/QGIS_files/S2B_MSIL2A_20231007T072759_N0509_R049_T36LYH_20231007T101850.SAFE/GRANULE/L2A_T36LYH_A034395_20231007T075214/IMG_DATA/R10m/SAVI1.tif\n",
      "Scaled SAVI image for L=0.2 calculated and saved to /home/gp/Documents/Dev/EST_Project/QGIS_files/S2B_MSIL2A_20231007T072759_N0509_R049_T36LYH_20231007T101850.SAFE/GRANULE/L2A_T36LYH_A034395_20231007T075214/IMG_DATA/R10m/SAVI2.tif\n",
      "Scaled SAVI image for L=0.30000000000000004 calculated and saved to /home/gp/Documents/Dev/EST_Project/QGIS_files/S2B_MSIL2A_20231007T072759_N0509_R049_T36LYH_20231007T101850.SAFE/GRANULE/L2A_T36LYH_A034395_20231007T075214/IMG_DATA/R10m/SAVI3.tif\n",
      "Scaled SAVI image for L=0.4 calculated and saved to /home/gp/Documents/Dev/EST_Project/QGIS_files/S2B_MSIL2A_20231007T072759_N0509_R049_T36LYH_20231007T101850.SAFE/GRANULE/L2A_T36LYH_A034395_20231007T075214/IMG_DATA/R10m/SAVI4.tif\n",
      "Scaled SAVI image for L=0.5 calculated and saved to /home/gp/Documents/Dev/EST_Project/QGIS_files/S2B_MSIL2A_20231007T072759_N0509_R049_T36LYH_20231007T101850.SAFE/GRANULE/L2A_T36LYH_A034395_20231007T075214/IMG_DATA/R10m/SAVI5.tif\n",
      "Scaled SAVI image for L=0.6 calculated and saved to /home/gp/Documents/Dev/EST_Project/QGIS_files/S2B_MSIL2A_20231007T072759_N0509_R049_T36LYH_20231007T101850.SAFE/GRANULE/L2A_T36LYH_A034395_20231007T075214/IMG_DATA/R10m/SAVI6.tif\n",
      "Scaled SAVI image for L=0.7000000000000001 calculated and saved to /home/gp/Documents/Dev/EST_Project/QGIS_files/S2B_MSIL2A_20231007T072759_N0509_R049_T36LYH_20231007T101850.SAFE/GRANULE/L2A_T36LYH_A034395_20231007T075214/IMG_DATA/R10m/SAVI7.tif\n",
      "Scaled SAVI image for L=0.8 calculated and saved to /home/gp/Documents/Dev/EST_Project/QGIS_files/S2B_MSIL2A_20231007T072759_N0509_R049_T36LYH_20231007T101850.SAFE/GRANULE/L2A_T36LYH_A034395_20231007T075214/IMG_DATA/R10m/SAVI8.tif\n",
      "Scaled SAVI image for L=0.9 calculated and saved to /home/gp/Documents/Dev/EST_Project/QGIS_files/S2B_MSIL2A_20231007T072759_N0509_R049_T36LYH_20231007T101850.SAFE/GRANULE/L2A_T36LYH_A034395_20231007T075214/IMG_DATA/R10m/SAVI9.tif\n",
      "Scaled SAVI image for L=1.0 calculated and saved to /home/gp/Documents/Dev/EST_Project/QGIS_files/S2B_MSIL2A_20231007T072759_N0509_R049_T36LYH_20231007T101850.SAFE/GRANULE/L2A_T36LYH_A034395_20231007T075214/IMG_DATA/R10m/SAVI10.tif\n"
     ]
    }
   ],
   "source": [
    "for l_value in np.arange(0.1, 1.1, 0.1):\n",
    "    with rasterio.open(red_band_path) as red_band_ds, \\\n",
    "         rasterio.open(nir_band_path) as nir_band_ds:\n",
    "\n",
    "        red_band = red_band_ds.read(1).astype(np.float32)\n",
    "        nir_band = nir_band_ds.read(1).astype(np.float32)\n",
    "        savi = ((nir_band - red_band) * (1 + l_value)) / (nir_band + red_band + l_value)\n",
    "\n",
    "        scaled_savi = ((savi + 1) * 127.5).astype(np.uint8)\n",
    "        metadata = red_band_ds.meta\n",
    "\n",
    "        output_path = f'{output_savi_path}SAVI{int(l_value * 10)}.tif'\n",
    "        metadata.update(dtype=rasterio.uint8, count=1)\n",
    "\n",
    "        with rasterio.open(output_path, 'w', **metadata) as dst:\n",
    "            dst.write(scaled_savi, 1)\n",
    "\n",
    "        print(f'Scaled SAVI image for L={l_value} calculated and saved to {output_path}')"
   ]
  },
  {
   "cell_type": "code",
   "execution_count": 10,
   "metadata": {},
   "outputs": [
    {
     "name": "stdout",
     "output_type": "stream",
     "text": [
      "Blurred images saved successfully.\n"
     ]
    }
   ],
   "source": [
    "sigma = 1\n",
    "\n",
    "def apply_gaussian_blur(input_path, output_path):\n",
    "    with rasterio.open(input_path) as src:\n",
    "        image_data = src.read(1).astype(np.float64) \n",
    "        blurred_data = gaussian_filter(image_data, sigma=sigma)\n",
    "        blurred_data = blurred_data.astype(src.profile['dtype'])\n",
    "\n",
    "        with rasterio.open(output_path, 'w', **src.profile) as dst:\n",
    "            dst.write(blurred_data, 1)\n",
    "\n",
    "apply_gaussian_blur(red_band_path, output_red_blurred_path)\n",
    "apply_gaussian_blur(green_band_path, output_green_blurred_path)\n",
    "apply_gaussian_blur(blue_band_path, output_blue_blurred_path)\n",
    "apply_gaussian_blur(nir_band_path, output_nir_blurred_path)\n",
    "apply_gaussian_blur(output_ndvi_path, output_ndvi_blurred_path)\n",
    "apply_gaussian_blur(output_pan_path, output_panchromatic_blurred_path)\n",
    "\n",
    "print('Blurred images saved successfully.')"
   ]
  }
 ],
 "metadata": {
  "kernelspec": {
   "display_name": "Python 3",
   "language": "python",
   "name": "python3"
  },
  "language_info": {
   "codemirror_mode": {
    "name": "ipython",
    "version": 3
   },
   "file_extension": ".py",
   "mimetype": "text/x-python",
   "name": "python",
   "nbconvert_exporter": "python",
   "pygments_lexer": "ipython3",
   "version": "3.10.12"
  },
  "orig_nbformat": 4
 },
 "nbformat": 4,
 "nbformat_minor": 2
}
